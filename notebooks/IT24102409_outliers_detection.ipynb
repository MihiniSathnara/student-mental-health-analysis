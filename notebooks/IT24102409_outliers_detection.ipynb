{
 "cells": [
  {
   "cell_type": "code",
   "execution_count": 1,
   "id": "db8ce6da-3858-41a1-bd38-c3cf4bb652f3",
   "metadata": {
    "scrolled": true
   },
   "outputs": [
    {
     "name": "stdout",
     "output_type": "stream",
     "text": [
      "Requirement already satisfied: pandas in c:\\users\\shewon\\appdata\\local\\programs\\python\\python313\\lib\\site-packages (2.3.2)\n",
      "Requirement already satisfied: numpy in c:\\users\\shewon\\appdata\\local\\programs\\python\\python313\\lib\\site-packages (2.2.4)\n",
      "Requirement already satisfied: scipy in c:\\users\\shewon\\appdata\\local\\programs\\python\\python313\\lib\\site-packages (1.16.2)\n",
      "Requirement already satisfied: python-dateutil>=2.8.2 in c:\\users\\shewon\\appdata\\local\\programs\\python\\python313\\lib\\site-packages (from pandas) (2.9.0.post0)\n",
      "Requirement already satisfied: pytz>=2020.1 in c:\\users\\shewon\\appdata\\local\\programs\\python\\python313\\lib\\site-packages (from pandas) (2025.2)\n",
      "Requirement already satisfied: tzdata>=2022.7 in c:\\users\\shewon\\appdata\\local\\programs\\python\\python313\\lib\\site-packages (from pandas) (2025.2)\n",
      "Requirement already satisfied: six>=1.5 in c:\\users\\shewon\\appdata\\local\\programs\\python\\python313\\lib\\site-packages (from python-dateutil>=2.8.2->pandas) (1.17.0)\n",
      "Note: you may need to restart the kernel to use updated packages.\n"
     ]
    },
    {
     "name": "stderr",
     "output_type": "stream",
     "text": [
      "\n",
      "[notice] A new release of pip is available: 25.0.1 -> 25.2\n",
      "[notice] To update, run: python.exe -m pip install --upgrade pip\n"
     ]
    }
   ],
   "source": [
    "pip install pandas numpy scipy"
   ]
  },
  {
   "cell_type": "code",
   "execution_count": 2,
   "id": "b9f22b2d-cf60-4d71-aab1-993f5d67f4cc",
   "metadata": {},
   "outputs": [
    {
     "name": "stdout",
     "output_type": "stream",
     "text": [
      "Requirement already satisfied: matplotlib in c:\\users\\shewon\\appdata\\local\\programs\\python\\python313\\lib\\site-packages (3.10.6)\n",
      "Requirement already satisfied: seaborn in c:\\users\\shewon\\appdata\\local\\programs\\python\\python313\\lib\\site-packages (0.13.2)\n",
      "Requirement already satisfied: scikit-learn in c:\\users\\shewon\\appdata\\local\\programs\\python\\python313\\lib\\site-packages (1.7.2)\n",
      "Requirement already satisfied: contourpy>=1.0.1 in c:\\users\\shewon\\appdata\\local\\programs\\python\\python313\\lib\\site-packages (from matplotlib) (1.3.3)\n",
      "Requirement already satisfied: cycler>=0.10 in c:\\users\\shewon\\appdata\\local\\programs\\python\\python313\\lib\\site-packages (from matplotlib) (0.12.1)\n",
      "Requirement already satisfied: fonttools>=4.22.0 in c:\\users\\shewon\\appdata\\local\\programs\\python\\python313\\lib\\site-packages (from matplotlib) (4.60.0)\n",
      "Requirement already satisfied: kiwisolver>=1.3.1 in c:\\users\\shewon\\appdata\\local\\programs\\python\\python313\\lib\\site-packages (from matplotlib) (1.4.9)\n",
      "Requirement already satisfied: numpy>=1.23 in c:\\users\\shewon\\appdata\\local\\programs\\python\\python313\\lib\\site-packages (from matplotlib) (2.2.4)\n",
      "Requirement already satisfied: packaging>=20.0 in c:\\users\\shewon\\appdata\\local\\programs\\python\\python313\\lib\\site-packages (from matplotlib) (24.2)\n",
      "Requirement already satisfied: pillow>=8 in c:\\users\\shewon\\appdata\\local\\programs\\python\\python313\\lib\\site-packages (from matplotlib) (11.3.0)\n",
      "Requirement already satisfied: pyparsing>=2.3.1 in c:\\users\\shewon\\appdata\\local\\programs\\python\\python313\\lib\\site-packages (from matplotlib) (3.2.5)\n",
      "Requirement already satisfied: python-dateutil>=2.7 in c:\\users\\shewon\\appdata\\local\\programs\\python\\python313\\lib\\site-packages (from matplotlib) (2.9.0.post0)\n",
      "Requirement already satisfied: pandas>=1.2 in c:\\users\\shewon\\appdata\\local\\programs\\python\\python313\\lib\\site-packages (from seaborn) (2.3.2)\n",
      "Requirement already satisfied: scipy>=1.8.0 in c:\\users\\shewon\\appdata\\local\\programs\\python\\python313\\lib\\site-packages (from scikit-learn) (1.16.2)\n",
      "Requirement already satisfied: joblib>=1.2.0 in c:\\users\\shewon\\appdata\\local\\programs\\python\\python313\\lib\\site-packages (from scikit-learn) (1.5.2)\n",
      "Requirement already satisfied: threadpoolctl>=3.1.0 in c:\\users\\shewon\\appdata\\local\\programs\\python\\python313\\lib\\site-packages (from scikit-learn) (3.6.0)\n",
      "Requirement already satisfied: pytz>=2020.1 in c:\\users\\shewon\\appdata\\local\\programs\\python\\python313\\lib\\site-packages (from pandas>=1.2->seaborn) (2025.2)\n",
      "Requirement already satisfied: tzdata>=2022.7 in c:\\users\\shewon\\appdata\\local\\programs\\python\\python313\\lib\\site-packages (from pandas>=1.2->seaborn) (2025.2)\n",
      "Requirement already satisfied: six>=1.5 in c:\\users\\shewon\\appdata\\local\\programs\\python\\python313\\lib\\site-packages (from python-dateutil>=2.7->matplotlib) (1.17.0)\n",
      "Note: you may need to restart the kernel to use updated packages.\n"
     ]
    },
    {
     "name": "stderr",
     "output_type": "stream",
     "text": [
      "\n",
      "[notice] A new release of pip is available: 25.0.1 -> 25.2\n",
      "[notice] To update, run: python.exe -m pip install --upgrade pip\n"
     ]
    }
   ],
   "source": [
    "pip install matplotlib seaborn scikit-learn"
   ]
  },
  {
   "cell_type": "code",
   "execution_count": 3,
   "id": "b2258165-7831-481d-878c-e8c1a7bba9bb",
   "metadata": {},
   "outputs": [],
   "source": [
    "import pandas as pd\n",
    "import numpy as np \n",
    "from scipy.io import arff \n",
    "import matplotlib.pyplot as plt \n",
    "import seaborn as sns\n",
    "\n",
    "from sklearn.ensemble import IsolationForest \n",
    "from sklearn.neighbors import LocalOutlierFactor"
   ]
  },
  {
   "cell_type": "code",
   "execution_count": 4,
   "id": "0a32e52c-c1a5-4329-93f0-cf14e3579005",
   "metadata": {},
   "outputs": [
    {
     "name": "stdout",
     "output_type": "stream",
     "text": [
      "Requirement already satisfied: liac-arff in c:\\users\\shewon\\appdata\\local\\programs\\python\\python313\\lib\\site-packages (2.5.0)\n",
      "Note: you may need to restart the kernel to use updated packages.\n"
     ]
    },
    {
     "name": "stderr",
     "output_type": "stream",
     "text": [
      "\n",
      "[notice] A new release of pip is available: 25.0.1 -> 25.2\n",
      "[notice] To update, run: python.exe -m pip install --upgrade pip\n"
     ]
    }
   ],
   "source": [
    "pip install liac-arff"
   ]
  },
  {
   "cell_type": "code",
   "execution_count": 7,
   "id": "d92d0c97-2b80-40d9-9fbb-a08f97e1fc69",
   "metadata": {},
   "outputs": [
    {
     "name": "stdout",
     "output_type": "stream",
     "text": [
      "Original Shape: (27901, 18)\n",
      "     id  Gender   Age           City Profession  Academic Pressure  \\\n",
      "0   2.0    Male  33.0  Visakhapatnam    Student                5.0   \n",
      "1   8.0  Female  24.0      Bangalore    Student                2.0   \n",
      "2  26.0    Male  31.0       Srinagar    Student                3.0   \n",
      "3  30.0  Female  28.0       Varanasi    Student                3.0   \n",
      "4  32.0  Female  25.0         Jaipur    Student                4.0   \n",
      "\n",
      "   Work Pressure  CGPA  Study Satisfaction  Job Satisfaction  \\\n",
      "0            0.0  8.97                 2.0               0.0   \n",
      "1            0.0  5.90                 5.0               0.0   \n",
      "2            0.0  7.03                 5.0               0.0   \n",
      "3            0.0  5.59                 2.0               0.0   \n",
      "4            0.0  8.13                 3.0               0.0   \n",
      "\n",
      "      Sleep Duration Dietary Habits   Degree  \\\n",
      "0          5-6 hours        Healthy  B.Pharm   \n",
      "1          5-6 hours       Moderate      BSc   \n",
      "2  Less than 5 hours        Healthy       BA   \n",
      "3          7-8 hours       Moderate      BCA   \n",
      "4          5-6 hours       Moderate   M.Tech   \n",
      "\n",
      "  Have you ever had suicidal thoughts ?  Work/Study Hours  Financial Stress  \\\n",
      "0                                   Yes               3.0               1.0   \n",
      "1                                    No               3.0               2.0   \n",
      "2                                    No               9.0               1.0   \n",
      "3                                   Yes               4.0               5.0   \n",
      "4                                   Yes               1.0               1.0   \n",
      "\n",
      "  Family History of Mental Illness  Depression  \n",
      "0                               No         1.0  \n",
      "1                              Yes         0.0  \n",
      "2                              Yes         0.0  \n",
      "3                              Yes         1.0  \n",
      "4                               No         0.0  \n"
     ]
    }
   ],
   "source": [
    "import arff  # liac-arff\n",
    "import pandas as pd\n",
    "\n",
    "# Path to your dataset\n",
    "dataset_path = r\"D:\\Year 2 Sem 1\\depression_dataset.arff\"\n",
    "\n",
    "# Load ARFF file with liac-arff\n",
    "with open(dataset_path, 'r') as f:\n",
    "    data = arff.load(f)\n",
    "\n",
    "# Convert to DataFrame\n",
    "df = pd.DataFrame(data['data'], columns=[attr[0] for attr in data['attributes']])\n",
    "\n",
    "# If there are bytes, decode them (optional, liac-arff usually handles strings)\n",
    "for col in df.select_dtypes(['object']):\n",
    "    df[col] = df[col].apply(lambda x: x.decode('utf-8') if isinstance(x, bytes) else x)\n",
    "\n",
    "print(\"Original Shape:\", df.shape)\n",
    "print(df.head())\n"
   ]
  },
  {
   "cell_type": "code",
   "execution_count": 9,
   "id": "f50a6732-85e5-4b32-84d8-c7579a19adef",
   "metadata": {},
   "outputs": [
    {
     "name": "stdout",
     "output_type": "stream",
     "text": [
      "After dropping missing values: (27898, 18)\n"
     ]
    }
   ],
   "source": [
    "# Drop rows with missing values\n",
    "df = df.dropna()\n",
    "\n",
    "# Print the new shape\n",
    "print(\"After dropping missing values:\", df.shape)\n"
   ]
  },
  {
   "cell_type": "code",
   "execution_count": 12,
   "id": "aa5d075b-b40a-49f4-b262-589ac8c30540",
   "metadata": {},
   "outputs": [],
   "source": [
    "# Select numeric columns\n",
    "num_cols = df.select_dtypes(include=[np.number]).columns\n",
    "\n",
    "# Create a DataFrame with only numeric columns\n",
    "df_numeric = df[num_cols]\n"
   ]
  },
  {
   "cell_type": "code",
   "execution_count": 15,
   "id": "6c93a8ad-e675-4b73-92c4-cc4c6d160e70",
   "metadata": {},
   "outputs": [],
   "source": [
    "iso = IsolationForest(contamination=0.05, random_state=42) \n",
    "iso_preds = iso.fit_predict(df_numeric) \n",
    "iso_outliers = iso_preds == -1"
   ]
  },
  {
   "cell_type": "code",
   "execution_count": 16,
   "id": "f3e23efc-3fe9-4035-8e27-622f19745677",
   "metadata": {},
   "outputs": [],
   "source": [
    "lof = LocalOutlierFactor(n_neighbors=20, contamination=0.05) \n",
    "lof_preds = lof.fit_predict(df_numeric) \n",
    "lof_outliers = lof_preds == -1"
   ]
  },
  {
   "cell_type": "code",
   "execution_count": 19,
   "id": "b0b1072c-f04f-403d-a2a4-c1c684e9574b",
   "metadata": {},
   "outputs": [
    {
     "name": "stdout",
     "output_type": "stream",
     "text": [
      "Number of outliers detected: 2728\n"
     ]
    }
   ],
   "source": [
    "combined_outliers = iso_outliers | lof_outliers\n",
    "print(\"Number of outliers detected:\", combined_outliers.sum())"
   ]
  },
  {
   "cell_type": "code",
   "execution_count": 21,
   "id": "43d1fc48-9316-4d02-b744-70419eaccf8f",
   "metadata": {},
   "outputs": [
    {
     "name": "stdout",
     "output_type": "stream",
     "text": [
      "After removing outliers: (25170, 18)\n"
     ]
    }
   ],
   "source": [
    "df_cleaned = df[~combined_outliers] \n",
    "print(\"After removing outliers:\", df_cleaned.shape)"
   ]
  },
  {
   "cell_type": "code",
   "execution_count": 22,
   "id": "8f54511b-f776-4f70-8cf6-9b2ec7911e9d",
   "metadata": {},
   "outputs": [
    {
     "data": {
      "image/png": "[encoded data removed]",
      "text/plain": [
       "<Figure size 800x500 with 1 Axes>"
      ]
     },
     "metadata": {},
     "output_type": "display_data"
    }
   ],
   "source": [
    "plt.figure(figsize=(8,5)) \n",
    "sns.countplot(x=combined_outliers) \n",
    "plt.title(\"Outlier Distribution (Before Removal)\") \n",
    "plt.xticks([0,1], [\"Inliers\", \"Outliers\"]) \n",
    "plt.show()"
   ]
  },
  {
   "cell_type": "code",
   "execution_count": 23,
   "id": "3f1d5d61-4cdf-4421-9842-b76d879117ff",
   "metadata": {},
   "outputs": [
    {
     "name": "stdout",
     "output_type": "stream",
     "text": [
      "\n",
      "Cleaned dataset saved at: D:\\Year 2 Sem 1\\depression_cleaned.csv\n"
     ]
    }
   ],
   "source": [
    "output_path = r\"D:\\Year 2 Sem 1\\depression_cleaned.csv\" \n",
    "df_cleaned.to_csv(output_path, index=False) \n",
    "print(f\"\\nCleaned dataset saved at: {output_path}\")"
   ]
  },
  {
   "cell_type": "code",
   "execution_count": null,
   "id": "5843c7a0-6feb-49b7-a8bf-c702889a6c9e",
   "metadata": {},
   "outputs": [],
   "source": []
  }
 ],
 "metadata": {
  "kernelspec": {
   "display_name": "Python 3 (ipykernel)",
   "language": "python",
   "name": "python3"
  },
  "language_info": {
   "codemirror_mode": {
    "name": "ipython",
    "version": 3
   },
   "file_extension": ".py",
   "mimetype": "text/x-python",
   "name": "python",
   "nbconvert_exporter": "python",
   "pygments_lexer": "ipython3",
   "version": "3.13.2"
  }
 },
 "nbformat": 4,
 "nbformat_minor": 5
}
