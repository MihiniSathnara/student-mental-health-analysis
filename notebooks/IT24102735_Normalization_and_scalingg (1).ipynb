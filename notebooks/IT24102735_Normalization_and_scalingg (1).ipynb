{
  "cells": [
    {
      "cell_type": "code",
      "execution_count": 23,
      "id": "2db92247-f380-4010-94d0-dc6d04755db1",
      "metadata": {
        "id": "2db92247-f380-4010-94d0-dc6d04755db1"
      },
      "outputs": [],
      "source": [
        "\n",
        "import pandas as pd\n",
        "import numpy as np\n",
        "import matplotlib.pyplot as plt\n",
        "from scipy.io import arff\n",
        "from sklearn.preprocessing import StandardScaler"
      ]
    },
    {
      "cell_type": "code",
      "execution_count": 24,
      "id": "848837d9-3f0f-4110-ae4d-afb699f20b37",
      "metadata": {
        "colab": {
          "base_uri": "https://localhost:8080/"
        },
        "id": "848837d9-3f0f-4110-ae4d-afb699f20b37",
        "outputId": "f6e7889e-aab6-4ac4-f5ad-f832b306202d"
      },
      "outputs": [
        {
          "output_type": "stream",
          "name": "stdout",
          "text": [
            "Requirement already satisfied: liac-arff in /usr/local/lib/python3.12/dist-packages (2.5.0)\n"
          ]
        }
      ],
      "source": [
        "import sys\n",
        "!{sys.executable} -m pip install liac-arff"
      ]
    },
    {
      "cell_type": "code",
      "execution_count": 25,
      "id": "c96335bf-41a1-45c5-8869-aaceb95714fd",
      "metadata": {
        "id": "c96335bf-41a1-45c5-8869-aaceb95714fd"
      },
      "outputs": [],
      "source": [
        "from scipy.io import arff\n",
        "\n",
        "import pandas as pd"
      ]
    },
    {
      "cell_type": "code",
      "execution_count": 26,
      "id": "6d7c896e-ef14-4397-b21c-9008c34b3ce7",
      "metadata": {
        "colab": {
          "base_uri": "https://localhost:8080/"
        },
        "id": "6d7c896e-ef14-4397-b21c-9008c34b3ce7",
        "outputId": "72d98e50-e7b2-4245-a583-07d6c03125c7"
      },
      "outputs": [
        {
          "output_type": "stream",
          "name": "stdout",
          "text": [
            "     id  Gender   Age           City Profession  Academic Pressure  \\\n",
            "0   2.0    Male  33.0  Visakhapatnam    Student                5.0   \n",
            "1   8.0  Female  24.0      Bangalore    Student                2.0   \n",
            "2  26.0    Male  31.0       Srinagar    Student                3.0   \n",
            "3  30.0  Female  28.0       Varanasi    Student                3.0   \n",
            "4  32.0  Female  25.0         Jaipur    Student                4.0   \n",
            "\n",
            "   Work Pressure  CGPA  Study Satisfaction  Job Satisfaction  \\\n",
            "0            0.0  8.97                 2.0               0.0   \n",
            "1            0.0  5.90                 5.0               0.0   \n",
            "2            0.0  7.03                 5.0               0.0   \n",
            "3            0.0  5.59                 2.0               0.0   \n",
            "4            0.0  8.13                 3.0               0.0   \n",
            "\n",
            "      Sleep Duration Dietary Habits   Degree  \\\n",
            "0          5-6 hours        Healthy  B.Pharm   \n",
            "1          5-6 hours       Moderate      BSc   \n",
            "2  Less than 5 hours        Healthy       BA   \n",
            "3          7-8 hours       Moderate      BCA   \n",
            "4          5-6 hours       Moderate   M.Tech   \n",
            "\n",
            "  Have you ever had suicidal thoughts ?  Work/Study Hours  Financial Stress  \\\n",
            "0                                   Yes               3.0               1.0   \n",
            "1                                    No               3.0               2.0   \n",
            "2                                    No               9.0               1.0   \n",
            "3                                   Yes               4.0               5.0   \n",
            "4                                   Yes               1.0               1.0   \n",
            "\n",
            "  Family History of Mental Illness  Depression  \n",
            "0                               No         1.0  \n",
            "1                              Yes         0.0  \n",
            "2                              Yes         0.0  \n",
            "3                              Yes         1.0  \n",
            "4                               No         0.0  \n"
          ]
        }
      ],
      "source": [
        "import arff\n",
        "import pandas as pd\n",
        "\n",
        "with open(\"/content/depression_dataset.arff\", 'r') as f:\n",
        "    dataset = arff.load(f)\n",
        "\n",
        "\n",
        "df = pd.DataFrame(dataset['data'], columns=[attr[0] for attr in dataset['attributes']])\n",
        "\n",
        "print(df.head())\n",
        "\n"
      ]
    },
    {
      "cell_type": "code",
      "execution_count": 27,
      "id": "18cc29f5-587f-4f35-af67-cadb70ded96f",
      "metadata": {
        "id": "18cc29f5-587f-4f35-af67-cadb70ded96f"
      },
      "outputs": [],
      "source": [
        "\n",
        "\n",
        "numerical_cols = ['Age', 'Academic Pressure', 'Work Pressure', 'CGPA', 'Study Satisfaction',\n",
        "                  'Job Satisfaction', 'Work/Study Hours', 'Financial Stress']\n",
        "\n",
        "X_num = df[numerical_cols]"
      ]
    },
    {
      "cell_type": "code",
      "execution_count": 28,
      "id": "8fbb5d58-e2b2-424c-ade2-4e8792d08c98",
      "metadata": {
        "colab": {
          "base_uri": "https://localhost:8080/"
        },
        "id": "8fbb5d58-e2b2-424c-ade2-4e8792d08c98",
        "outputId": "4be54739-9164-47e4-d3d5-4149c5187e87"
      },
      "outputs": [
        {
          "output_type": "stream",
          "name": "stdout",
          "text": [
            "\n",
            "Statistics before scaling:\n",
            "                Age  Academic Pressure  Work Pressure          CGPA  \\\n",
            "count  27901.000000       27901.000000   27901.000000  27901.000000   \n",
            "mean      25.822300           3.141214       0.000430      7.656104   \n",
            "std        4.905687           1.381465       0.043992      1.470707   \n",
            "min       18.000000           0.000000       0.000000      0.000000   \n",
            "25%       21.000000           2.000000       0.000000      6.290000   \n",
            "50%       25.000000           3.000000       0.000000      7.770000   \n",
            "75%       30.000000           4.000000       0.000000      8.920000   \n",
            "max       59.000000           5.000000       5.000000     10.000000   \n",
            "\n",
            "       Study Satisfaction  Job Satisfaction  Work/Study Hours  \\\n",
            "count        27901.000000      27901.000000      27901.000000   \n",
            "mean             2.943837          0.000681          7.156984   \n",
            "std              1.361148          0.044394          3.707642   \n",
            "min              0.000000          0.000000          0.000000   \n",
            "25%              2.000000          0.000000          4.000000   \n",
            "50%              3.000000          0.000000          8.000000   \n",
            "75%              4.000000          0.000000         10.000000   \n",
            "max              5.000000          4.000000         12.000000   \n",
            "\n",
            "       Financial Stress  \n",
            "count      27898.000000  \n",
            "mean           3.139867  \n",
            "std            1.437347  \n",
            "min            1.000000  \n",
            "25%            2.000000  \n",
            "50%            3.000000  \n",
            "75%            4.000000  \n",
            "max            5.000000  \n"
          ]
        }
      ],
      "source": [
        "\n",
        "print(\"\\nStatistics before scaling:\")\n",
        "print(X_num.describe())"
      ]
    },
    {
      "cell_type": "code",
      "execution_count": 29,
      "id": "587892df-7219-4096-bc20-6379d6903014",
      "metadata": {
        "id": "587892df-7219-4096-bc20-6379d6903014"
      },
      "outputs": [],
      "source": [
        "\n",
        "scaler = StandardScaler()\n",
        "X_scaled = scaler.fit_transform(X_num)\n",
        "\n",
        "df_scaled = pd.DataFrame(X_scaled, columns=numerical_cols)"
      ]
    },
    {
      "cell_type": "code",
      "execution_count": 30,
      "id": "08741c93-8e1f-466e-a585-7a42a0cc7b17",
      "metadata": {
        "colab": {
          "base_uri": "https://localhost:8080/"
        },
        "id": "08741c93-8e1f-466e-a585-7a42a0cc7b17",
        "outputId": "e0998369-0fb1-49ea-fb5e-456e5eef2b00"
      },
      "outputs": [
        {
          "output_type": "stream",
          "name": "stdout",
          "text": [
            "\n",
            "Statistics after scaling:\n",
            "                Age  Academic Pressure  Work Pressure          CGPA  \\\n",
            "count  2.790100e+04       2.790100e+04   2.790100e+04  2.790100e+04   \n",
            "mean   1.739367e-16       1.871793e-17  -2.037326e-18  4.008438e-16   \n",
            "std    1.000018e+00       1.000018e+00   1.000018e+00  1.000018e+00   \n",
            "min   -1.594566e+00      -2.273869e+00  -9.776766e-03 -5.205822e+00   \n",
            "25%   -9.830196e-01      -8.261043e-01  -9.776766e-03 -9.288922e-01   \n",
            "50%   -1.676248e-01      -1.022220e-01  -9.776766e-03  7.744428e-02   \n",
            "75%    8.516186e-01       6.216603e-01  -9.776766e-03  8.593950e-01   \n",
            "max    6.763230e+00       1.345543e+00   1.136492e+02  1.593749e+00   \n",
            "\n",
            "       Study Satisfaction  Job Satisfaction  Work/Study Hours  \\\n",
            "count        2.790100e+04      2.790100e+04      2.790100e+04   \n",
            "mean         4.456650e-18      9.167965e-18      4.876848e-17   \n",
            "std          1.000018e+00      1.000018e+00      1.000018e+00   \n",
            "min         -2.162799e+00     -1.533958e-02     -1.930368e+00   \n",
            "25%         -6.934250e-01     -1.533958e-02     -8.514954e-01   \n",
            "50%          4.126213e-02     -1.533958e-02      2.273767e-01   \n",
            "75%          7.759493e-01     -1.533958e-02      7.668128e-01   \n",
            "max          1.510636e+00      9.008774e+01      1.306249e+00   \n",
            "\n",
            "       Financial Stress  \n",
            "count      2.789800e+04  \n",
            "mean      -4.839168e-17  \n",
            "std        1.000018e+00  \n",
            "min       -1.488788e+00  \n",
            "25%       -7.930495e-01  \n",
            "50%       -9.731067e-02  \n",
            "75%        5.984282e-01  \n",
            "max        1.294167e+00  \n"
          ]
        }
      ],
      "source": [
        "\n",
        "print(\"\\nStatistics after scaling:\")\n",
        "print(df_scaled.describe())"
      ]
    },
    {
      "cell_type": "code",
      "execution_count": 31,
      "id": "2bcdd01d-d4b5-4b01-b0f1-fa4bdfce6fa9",
      "metadata": {
        "colab": {
          "base_uri": "https://localhost:8080/",
          "height": 376
        },
        "id": "2bcdd01d-d4b5-4b01-b0f1-fa4bdfce6fa9",
        "outputId": "aed17676-ee67-4734-ba3a-28b1c0dff588"
      },
      "outputs": [
        {
          "output_type": "display_data",
          "data": {
            "text/plain": [
              "<Figure size 1200x500 with 2 Axes>"
            ],
            "image/png": "[encoded data removed]"
          },
          "metadata": {}
        }
      ],
      "source": [
        "\n",
        "plt.figure(figsize=(12, 5))\n",
        "\n",
        "# Before scaling\n",
        "plt.subplot(1, 2, 1)\n",
        "plt.hist(X_num['CGPA'], bins=20, color='blue', alpha=0.7)\n",
        "plt.title('Histogram of CGPA (Before Scaling)')\n",
        "plt.xlabel('CGPA')\n",
        "plt.ylabel('Frequency')\n",
        "\n",
        "# After scaling\n",
        "plt.subplot(1, 2, 2)\n",
        "plt.hist(df_scaled['CGPA'], bins=20, color='green', alpha=0.7)\n",
        "plt.title('Histogram of CGPA (After Scaling)')\n",
        "plt.xlabel('Scaled CGPA')\n",
        "plt.ylabel('Frequency')\n",
        "\n",
        "plt.tight_layout()\n",
        "plt.show()"
      ]
    },
    {
      "cell_type": "code",
      "execution_count": 32,
      "id": "477222e1-7daf-4f74-b176-136bb479747f",
      "metadata": {
        "colab": {
          "base_uri": "https://localhost:8080/",
          "height": 52
        },
        "id": "477222e1-7daf-4f74-b176-136bb479747f",
        "outputId": "e97dd7bd-8d16-48a5-c3b0-482283bbe5ec"
      },
      "outputs": [
        {
          "output_type": "stream",
          "name": "stdout",
          "text": [
            "Histogram saved to 'results/eda_visualizations/cgpa_histogram_before_after.png'\n"
          ]
        },
        {
          "output_type": "display_data",
          "data": {
            "text/plain": [
              "<Figure size 640x480 with 0 Axes>"
            ]
          },
          "metadata": {}
        }
      ],
      "source": [
        "import os\n",
        "import matplotlib.pyplot as plt\n",
        "\n",
        "os.makedirs(\"results/eda_visualizations\", exist_ok=True)\n",
        "\n",
        "plt.savefig(\"results/eda_visualizations/cgpa_histogram_before_after.png\")\n",
        "print(\"Histogram saved to 'results/eda_visualizations/cgpa_histogram_before_after.png'\")\n"
      ]
    },
    {
      "cell_type": "code",
      "execution_count": 33,
      "id": "078d1062-e0bd-4993-ba20-b45a62ec4498",
      "metadata": {
        "colab": {
          "base_uri": "https://localhost:8080/",
          "height": 378
        },
        "id": "078d1062-e0bd-4993-ba20-b45a62ec4498",
        "outputId": "67b9266d-ab33-4f02-e23d-612b064c8de6"
      },
      "outputs": [
        {
          "output_type": "display_data",
          "data": {
            "text/plain": [
              "<Figure size 1200x500 with 2 Axes>"
            ],
            "image/png": "[encoded data removed]"
          },
          "metadata": {}
        }
      ],
      "source": [
        "\n",
        "plt.figure(figsize=(12, 5))\n",
        "\n",
        "# Before scaling\n",
        "plt.subplot(1, 2, 1)\n",
        "X_num.boxplot()\n",
        "plt.title('Boxplot of Numerical Features (Before Scaling)')\n",
        "plt.xticks(rotation=45)\n",
        "\n",
        "# After scaling\n",
        "plt.subplot(1, 2, 2)\n",
        "df_scaled.boxplot()\n",
        "plt.title('Boxplot of Numerical Features (After Scaling)')\n",
        "plt.xticks(rotation=45)\n",
        "\n",
        "plt.tight_layout()\n",
        "plt.show()"
      ]
    },
    {
      "cell_type": "code",
      "execution_count": 34,
      "id": "d01ee0ac-f704-4a2a-90d9-3f7b99b966d1",
      "metadata": {
        "colab": {
          "base_uri": "https://localhost:8080/",
          "height": 52
        },
        "id": "d01ee0ac-f704-4a2a-90d9-3f7b99b966d1",
        "outputId": "22c33f68-274d-4570-f0da-4de4ebcb3234"
      },
      "outputs": [
        {
          "output_type": "stream",
          "name": "stdout",
          "text": [
            "Boxplot saved to 'results/eda_visualizations/numerical_boxplot_before_after.png'\n"
          ]
        },
        {
          "output_type": "display_data",
          "data": {
            "text/plain": [
              "<Figure size 640x480 with 0 Axes>"
            ]
          },
          "metadata": {}
        }
      ],
      "source": [
        "\n",
        "plt.savefig('results/eda_visualizations/numerical_boxplot_before_after.png')\n",
        "print(\"Boxplot saved to 'results/eda_visualizations/numerical_boxplot_before_after.png'\")"
      ]
    },
    {
      "cell_type": "code",
      "execution_count": 35,
      "id": "022c0db2-4f24-4c5e-a75c-0327e6a20d76",
      "metadata": {
        "colab": {
          "base_uri": "https://localhost:8080/"
        },
        "id": "022c0db2-4f24-4c5e-a75c-0327e6a20d76",
        "outputId": "00dd8659-47c4-4a8f-f1b4-6647eb02eeca"
      },
      "outputs": [
        {
          "output_type": "stream",
          "name": "stdout",
          "text": [
            "\n",
            "Final dataframe with scaled numerical features:\n",
            "     id  Gender       Age           City Profession  Academic Pressure  \\\n",
            "0   2.0    Male  1.463165  Visakhapatnam    Student           1.345543   \n",
            "1   8.0  Female -0.371474      Bangalore    Student          -0.826104   \n",
            "2  26.0    Male  1.055467       Srinagar    Student          -0.102222   \n",
            "3  30.0  Female  0.443921       Varanasi    Student          -0.102222   \n",
            "4  32.0  Female -0.167625         Jaipur    Student           0.621660   \n",
            "\n",
            "   Work Pressure      CGPA  Study Satisfaction  Job Satisfaction  \\\n",
            "0      -0.009777  0.893393           -0.693425          -0.01534   \n",
            "1      -0.009777 -1.194076            1.510636          -0.01534   \n",
            "2      -0.009777 -0.425724            1.510636          -0.01534   \n",
            "3      -0.009777 -1.404862           -0.693425          -0.01534   \n",
            "4      -0.009777  0.322229            0.041262          -0.01534   \n",
            "\n",
            "      Sleep Duration Dietary Habits   Degree  \\\n",
            "0          5-6 hours        Healthy  B.Pharm   \n",
            "1          5-6 hours       Moderate      BSc   \n",
            "2  Less than 5 hours        Healthy       BA   \n",
            "3          7-8 hours       Moderate      BCA   \n",
            "4          5-6 hours       Moderate   M.Tech   \n",
            "\n",
            "  Have you ever had suicidal thoughts ?  Work/Study Hours  Financial Stress  \\\n",
            "0                                   Yes         -1.121213         -1.488788   \n",
            "1                                    No         -1.121213         -0.793050   \n",
            "2                                    No          0.497095         -1.488788   \n",
            "3                                   Yes         -0.851495          1.294167   \n",
            "4                                   Yes         -1.660650         -1.488788   \n",
            "\n",
            "  Family History of Mental Illness  Depression  \n",
            "0                               No         1.0  \n",
            "1                              Yes         0.0  \n",
            "2                              Yes         0.0  \n",
            "3                              Yes         1.0  \n",
            "4                               No         0.0  \n"
          ]
        }
      ],
      "source": [
        "\n",
        "df[numerical_cols] = df_scaled\n",
        "\n",
        "\n",
        "print(\"\\nFinal dataframe with scaled numerical features:\")\n",
        "print(df.head())\n",
        "\n"
      ]
    },
    {
      "cell_type": "code",
      "execution_count": 36,
      "id": "307c9665-d90a-456f-a235-9f92c89f09e3",
      "metadata": {
        "colab": {
          "base_uri": "https://localhost:8080/"
        },
        "id": "307c9665-d90a-456f-a235-9f92c89f09e3",
        "outputId": "e9adf4c2-badc-4940-f2c2-c296440f9bff"
      },
      "outputs": [
        {
          "output_type": "stream",
          "name": "stdout",
          "text": [
            "CSV file saved as 'scaled_depression_dataset.csv'\n"
          ]
        }
      ],
      "source": [
        "\n",
        "df.to_csv('scaled_depression_dataset.csv', index=False)\n",
        "\n",
        "print(\"CSV file saved as 'scaled_depression_dataset.csv'\")"
      ]
    },
    {
      "cell_type": "code",
      "execution_count": 37,
      "id": "966ccd55-2e08-4914-bdad-81058e6fcafb",
      "metadata": {
        "colab": {
          "base_uri": "https://localhost:8080/"
        },
        "id": "966ccd55-2e08-4914-bdad-81058e6fcafb",
        "outputId": "c7cb3ac8-9f84-446a-8b69-6f26b5733918"
      },
      "outputs": [
        {
          "output_type": "stream",
          "name": "stdout",
          "text": [
            "Scaled numerical data saved to 'scaled_numerical_data.csv'\n",
            "Full dataset with scaled numerical columns saved to 'full_scaled_dataset.csv'\n"
          ]
        }
      ],
      "source": [
        "\n",
        "df_scaled.to_csv('scaled_numerical_data.csv', index=False)\n",
        "print(\"Scaled numerical data saved to 'scaled_numerical_data.csv'\")\n",
        "\n",
        "\n",
        "df.to_csv('full_scaled_dataset.csv', index=False)\n",
        "print(\"Full dataset with scaled numerical columns saved to 'full_scaled_dataset.csv'\")"
      ]
    },
    {
      "cell_type": "code",
      "execution_count": 38,
      "id": "58eccc0a-0288-4b98-a839-1eda906e23f5",
      "metadata": {
        "colab": {
          "base_uri": "https://localhost:8080/"
        },
        "id": "58eccc0a-0288-4b98-a839-1eda906e23f5",
        "outputId": "f757e757-b531-47ee-a1fe-eac737710f36"
      },
      "outputs": [
        {
          "output_type": "stream",
          "name": "stdout",
          "text": [
            "Requirement already satisfied: openpyxl in /usr/local/lib/python3.12/dist-packages (3.1.5)\n",
            "Requirement already satisfied: et-xmlfile in /usr/local/lib/python3.12/dist-packages (from openpyxl) (2.0.0)\n"
          ]
        }
      ],
      "source": [
        "!pip install openpyxl"
      ]
    },
    {
      "cell_type": "code",
      "execution_count": 39,
      "id": "c1319fbc-294c-4c8a-9d9a-e87c16056844",
      "metadata": {
        "colab": {
          "base_uri": "https://localhost:8080/"
        },
        "id": "c1319fbc-294c-4c8a-9d9a-e87c16056844",
        "outputId": "6329a5d8-f9ab-485e-83fb-82a9b5652060"
      },
      "outputs": [
        {
          "output_type": "stream",
          "name": "stdout",
          "text": [
            "Full scaled dataset saved to 'C:\\Users\\param\\Downloads\\full_scaled_depression_dataset.xlsx'\n"
          ]
        }
      ],
      "source": [
        "\n",
        "df.to_excel(r'C:\\Users\\param\\Downloads\\full_scaled_depression_dataset.xlsx', index=False, engine='openpyxl')\n",
        "print(\"Full scaled dataset saved to 'C:\\\\Users\\\\param\\\\Downloads\\\\full_scaled_depression_dataset.xlsx'\")"
      ]
    },
    {
      "cell_type": "code",
      "execution_count": 40,
      "id": "29a26f1e-2cc3-46cd-99df-fa76088422c1",
      "metadata": {
        "colab": {
          "base_uri": "https://localhost:8080/"
        },
        "id": "29a26f1e-2cc3-46cd-99df-fa76088422c1",
        "outputId": "81a3decc-a2dd-4994-8033-edeb69efa2bb"
      },
      "outputs": [
        {
          "output_type": "stream",
          "name": "stdout",
          "text": [
            "✅ Cleaned dataset saved at /content/cleaned_depression_dataset.csv\n"
          ]
        }
      ],
      "source": [
        "\n",
        "df_clean = df_check.drop_duplicates()\n",
        "\n",
        "df_clean.to_csv(\"/content/cleaned_depression_dataset.csv\", index=False)\n",
        "\n",
        "print(\"✅ Cleaned dataset saved at /content/cleaned_depression_dataset.csv\")\n"
      ]
    },
    {
      "cell_type": "code",
      "execution_count": 41,
      "id": "ebc34c7e-d0b5-4f24-889f-b1428e161a02",
      "metadata": {
        "colab": {
          "base_uri": "https://localhost:8080/",
          "height": 17
        },
        "id": "ebc34c7e-d0b5-4f24-889f-b1428e161a02",
        "outputId": "d25d2b6a-c1d4-4eeb-a2b7-69a32800691f"
      },
      "outputs": [
        {
          "output_type": "display_data",
          "data": {
            "text/plain": [
              "<IPython.core.display.Javascript object>"
            ],
            "application/javascript": [
              "\n",
              "    async function download(id, filename, size) {\n",
              "      if (!google.colab.kernel.accessAllowed) {\n",
              "        return;\n",
              "      }\n",
              "      const div = document.createElement('div');\n",
              "      const label = document.createElement('label');\n",
              "      label.textContent = `Downloading \"${filename}\": `;\n",
              "      div.appendChild(label);\n",
              "      const progress = document.createElement('progress');\n",
              "      progress.max = size;\n",
              "      div.appendChild(progress);\n",
              "      document.body.appendChild(div);\n",
              "\n",
              "      const buffers = [];\n",
              "      let downloaded = 0;\n",
              "\n",
              "      const channel = await google.colab.kernel.comms.open(id);\n",
              "      // Send a message to notify the kernel that we're ready.\n",
              "      channel.send({})\n",
              "\n",
              "      for await (const message of channel.messages) {\n",
              "        // Send a message to notify the kernel that we're ready.\n",
              "        channel.send({})\n",
              "        if (message.buffers) {\n",
              "          for (const buffer of message.buffers) {\n",
              "            buffers.push(buffer);\n",
              "            downloaded += buffer.byteLength;\n",
              "            progress.value = downloaded;\n",
              "          }\n",
              "        }\n",
              "      }\n",
              "      const blob = new Blob(buffers, {type: 'application/binary'});\n",
              "      const a = document.createElement('a');\n",
              "      a.href = window.URL.createObjectURL(blob);\n",
              "      a.download = filename;\n",
              "      div.appendChild(a);\n",
              "      a.click();\n",
              "      div.remove();\n",
              "    }\n",
              "  "
            ]
          },
          "metadata": {}
        },
        {
          "output_type": "display_data",
          "data": {
            "text/plain": [
              "<IPython.core.display.Javascript object>"
            ],
            "application/javascript": [
              "download(\"download_c11e9082-c9d6-48d6-b514-3130c98e2868\", \"cleaned_depression_dataset.csv\", 6244005)"
            ]
          },
          "metadata": {}
        }
      ],
      "source": [
        "from google.colab import files\n",
        "files.download(\"/content/cleaned_depression_dataset.csv\")\n",
        "\n",
        "\n"
      ]
    }
  ],
  "metadata": {
    "kernelspec": {
      "display_name": "Python 3 (ipykernel)",
      "language": "python",
      "name": "python3"
    },
    "language_info": {
      "codemirror_mode": {
        "name": "ipython",
        "version": 3
      },
      "file_extension": ".py",
      "mimetype": "text/x-python",
      "name": "python",
      "nbconvert_exporter": "python",
      "pygments_lexer": "ipython3",
      "version": "3.13.7"
    },
    "colab": {
      "provenance": []
    }
  },
  "nbformat": 4,
  "nbformat_minor": 5
}