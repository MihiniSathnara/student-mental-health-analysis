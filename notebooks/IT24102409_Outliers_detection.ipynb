{
 "cells": [
  {
   "cell_type": "code",
   "execution_count": 3,
   "id": "fe733524-8cba-44c0-833b-e3a0d400bca8",
   "metadata": {},
   "outputs": [],
   "source": [
    "import pandas as pd \n",
    "import numpy as np \n",
    "import matplotlib.pyplot as plt \n",
    "import seaborn as sns \n",
    "\n",
    "from sklearn.ensemble import IsolationForest \n",
    "from sklearn.neighbors import LocalOutlierFactor"
   ]
  },
  {
   "cell_type": "code",
   "execution_count": 4,
   "id": "c68565a4-a52d-4f50-90a0-8de5e822c6d6",
   "metadata": {},
   "outputs": [
    {
     "name": "stdout",
     "output_type": "stream",
     "text": [
      "Original Shape: (27901, 18)\n",
      "     id  Gender   Age           City Profession  Academic Pressure  \\\n",
      "0   2.0    Male  33.0  Visakhapatnam    Student                5.0   \n",
      "1   8.0  Female  24.0      Bangalore    Student                2.0   \n",
      "2  26.0    Male  31.0       Srinagar    Student                3.0   \n",
      "3  30.0  Female  28.0       Varanasi    Student                3.0   \n",
      "4  32.0  Female  25.0         Jaipur    Student                4.0   \n",
      "\n",
      "   Work Pressure  CGPA  Study Satisfaction  Job Satisfaction  \\\n",
      "0            0.0  8.97                 2.0               0.0   \n",
      "1            0.0  5.90                 5.0               0.0   \n",
      "2            0.0  7.03                 5.0               0.0   \n",
      "3            0.0  5.59                 2.0               0.0   \n",
      "4            0.0  8.13                 3.0               0.0   \n",
      "\n",
      "      Sleep Duration Dietary Habits   Degree  \\\n",
      "0          5-6 hours        Healthy  B.Pharm   \n",
      "1          5-6 hours       Moderate      BSc   \n",
      "2  Less than 5 hours        Healthy       BA   \n",
      "3          7-8 hours       Moderate      BCA   \n",
      "4          5-6 hours       Moderate   M.Tech   \n",
      "\n",
      "  Have you ever had suicidal thoughts ?  Work/Study Hours  Financial Stress  \\\n",
      "0                                   Yes               3.0               1.0   \n",
      "1                                    No               3.0               2.0   \n",
      "2                                    No               9.0               1.0   \n",
      "3                                   Yes               4.0               5.0   \n",
      "4                                   Yes               1.0               1.0   \n",
      "\n",
      "  Family History of Mental Illness  Depression  \n",
      "0                               No         1.0  \n",
      "1                              Yes         0.0  \n",
      "2                              Yes         0.0  \n",
      "3                              Yes         1.0  \n",
      "4                               No         0.0  \n"
     ]
    }
   ],
   "source": [
    "dataset_path = r\"D:\\Year 2 Sem 1\\depression_dataset_cleaned.csv\" \n",
    "df = pd.read_csv(dataset_path) \n",
    "print(\"Original Shape:\", df.shape)\n",
    "print(df.head())"
   ]
  },
  {
   "cell_type": "code",
   "execution_count": null,
   "id": "47b44e84-3f55-4594-9124-a4290e2b2971",
   "metadata": {},
   "outputs": [],
   "source": []
  },
  {
   "cell_type": "code",
   "execution_count": 7,
   "id": "be1a09d1-dc20-4e39-813f-6a62bce68525",
   "metadata": {},
   "outputs": [
    {
     "name": "stdout",
     "output_type": "stream",
     "text": [
      "After dropping missing values: (27901, 18)\n"
     ]
    }
   ],
   "source": [
    "df = df.dropna() \n",
    "print(\"After dropping missing values:\", df.shape)"
   ]
  },
  {
   "cell_type": "code",
   "execution_count": null,
   "id": "81949e84-508c-4f45-9b3f-add46523ed73",
   "metadata": {},
   "outputs": [],
   "source": []
  },
  {
   "cell_type": "code",
   "execution_count": 9,
   "id": "56cf8852-84da-41a3-b9b6-9b0630303c32",
   "metadata": {},
   "outputs": [],
   "source": [
    "num_cols = df.select_dtypes(include=[np.number]).columns \n",
    "df_numeric = df[num_cols]"
   ]
  },
  {
   "cell_type": "code",
   "execution_count": null,
   "id": "9a6a4889-5e37-4fc7-a251-ec4f7c48c2a8",
   "metadata": {},
   "outputs": [],
   "source": []
  },
  {
   "cell_type": "code",
   "execution_count": 11,
   "id": "9c09d86d-b09d-46f7-a9a3-1aafa03354b1",
   "metadata": {},
   "outputs": [],
   "source": [
    "iso = IsolationForest(contamination=0.05, random_state=42) \n",
    "iso_preds = iso.fit_predict(df_numeric) \n",
    "iso_outliers = iso_preds == -1"
   ]
  },
  {
   "cell_type": "code",
   "execution_count": null,
   "id": "6d14e5b1-0e09-402c-ae87-44535ba980d0",
   "metadata": {},
   "outputs": [],
   "source": []
  },
  {
   "cell_type": "code",
   "execution_count": 12,
   "id": "54dee71e-e061-4c87-abf3-2eb17015adec",
   "metadata": {},
   "outputs": [],
   "source": [
    "lof = LocalOutlierFactor(n_neighbors=20, contamination=0.05) \n",
    "lof_preds = lof.fit_predict(df_numeric) \n",
    "lof_outliers = lof_preds == -1"
   ]
  },
  {
   "cell_type": "code",
   "execution_count": null,
   "id": "7bc9613c-f35c-4c1a-bf7a-1fa097231a42",
   "metadata": {},
   "outputs": [],
   "source": []
  },
  {
   "cell_type": "code",
   "execution_count": 14,
   "id": "eb9ac8a9-89f8-4c17-ba72-b43b2c5fb95f",
   "metadata": {},
   "outputs": [
    {
     "name": "stdout",
     "output_type": "stream",
     "text": [
      "Number of outliers detected: 2723\n"
     ]
    }
   ],
   "source": [
    "combined_outliers = iso_outliers | lof_outliers\n",
    "print(\"Number of outliers detected:\", combined_outliers.sum())"
   ]
  },
  {
   "cell_type": "code",
   "execution_count": 15,
   "id": "7b510d6f-bf0f-48f4-b71a-44772a710d5b",
   "metadata": {},
   "outputs": [
    {
     "name": "stdout",
     "output_type": "stream",
     "text": [
      "After removing outliers: (25178, 18)\n"
     ]
    }
   ],
   "source": [
    "df_cleaned = df[~combined_outliers] \n",
    "print(\"After removing outliers:\", df_cleaned.shape)"
   ]
  },
  {
   "cell_type": "code",
   "execution_count": 16,
   "id": "4d42c444-3ab3-4a8a-bc47-4c1a7bd5c356",
   "metadata": {},
   "outputs": [
    {
     "data": {
      "image/png": "[encoded data removed]",
      "text/plain": [
       "<Figure size 800x500 with 1 Axes>"
      ]
     },
     "metadata": {},
     "output_type": "display_data"
    }
   ],
   "source": [
    "plt.figure(figsize=(8,5)) \n",
    "sns.countplot(x=combined_outliers) \n",
    "plt.title(\"Outlier Distribution (Before Removal)\") \n",
    "plt.xticks([0,1], [\"Inliers\", \"Outliers\"]) \n",
    "plt.show()"
   ]
  },
  {
   "cell_type": "code",
   "execution_count": 18,
   "id": "b960e032-780a-48f7-add9-40367b6d35f9",
   "metadata": {},
   "outputs": [
    {
     "name": "stdout",
     "output_type": "stream",
     "text": [
      "\n",
      "Final cleaned dataset saved at: D:\\Year 2 Sem 1\\depression_dataset_afteroutliers.csv\n"
     ]
    }
   ],
   "source": [
    "output_path = r\"D:\\Year 2 Sem 1\\depression_dataset_afteroutliers.csv\" \n",
    "df_cleaned.to_csv(output_path, index=False) \n",
    "print(f\"\\nFinal cleaned dataset saved at: {output_path}\")"
   ]
  },
  {
   "cell_type": "code",
   "execution_count": null,
   "id": "c5760354-3b71-4971-a689-d6391a5a17f1",
   "metadata": {},
   "outputs": [],
   "source": []
  }
 ],
 "metadata": {
  "kernelspec": {
   "display_name": "Python 3 (ipykernel)",
   "language": "python",
   "name": "python3"
  },
  "language_info": {
   "codemirror_mode": {
    "name": "ipython",
    "version": 3
   },
   "file_extension": ".py",
   "mimetype": "text/x-python",
   "name": "python",
   "nbconvert_exporter": "python",
   "pygments_lexer": "ipython3",
   "version": "3.13.2"
  }
 },
 "nbformat": 4,
 "nbformat_minor": 5
}
