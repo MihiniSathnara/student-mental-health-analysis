{
 "cells": [
  {
   "cell_type": "code",
   "execution_count": 1,
   "id": "f6fd971e-92ac-43ad-beab-b6dd8f8733ee",
   "metadata": {},
   "outputs": [],
   "source": [
    "import pandas as pd\n",
    "import numpy as np\n",
    "import arff"
   ]
  },
  {
   "cell_type": "code",
   "execution_count": 2,
   "id": "acbc36ac-3d69-4fcc-a466-1e4e79e0b742",
   "metadata": {},
   "outputs": [],
   "source": [
    "file_path = r\"C:\\Users\\Hasindu Lakshan\\Documents\\depression_dataset.arff\""
   ]
  },
  {
   "cell_type": "code",
   "execution_count": 3,
   "id": "0b55bc50-85ba-4409-866a-ad7e2be1520e",
   "metadata": {},
   "outputs": [],
   "source": [
    "with open(file_path, 'r') as f:\n",
    "    dataset = arff.load(f)"
   ]
  },
  {
   "cell_type": "code",
   "execution_count": 4,
   "id": "c1666562-4438-456b-a35c-0cec0c0c7990",
   "metadata": {},
   "outputs": [],
   "source": [
    "df = pd.DataFrame(dataset['data'], columns=[attr[0] for attr in dataset['attributes']])"
   ]
  },
  {
   "cell_type": "code",
   "execution_count": 5,
   "id": "bea95f44-b156-4286-b1b9-1d5db8890cf4",
   "metadata": {},
   "outputs": [
    {
     "name": "stdout",
     "output_type": "stream",
     "text": [
      "Initial Dataset Shape: (27901, 18)\n",
      "First 5 rows:\n",
      "     id  Gender   Age           City Profession  Academic Pressure  \\\n",
      "0   2.0    Male  33.0  Visakhapatnam    Student                5.0   \n",
      "1   8.0  Female  24.0      Bangalore    Student                2.0   \n",
      "2  26.0    Male  31.0       Srinagar    Student                3.0   \n",
      "3  30.0  Female  28.0       Varanasi    Student                3.0   \n",
      "4  32.0  Female  25.0         Jaipur    Student                4.0   \n",
      "\n",
      "   Work Pressure  CGPA  Study Satisfaction  Job Satisfaction  \\\n",
      "0            0.0  8.97                 2.0               0.0   \n",
      "1            0.0  5.90                 5.0               0.0   \n",
      "2            0.0  7.03                 5.0               0.0   \n",
      "3            0.0  5.59                 2.0               0.0   \n",
      "4            0.0  8.13                 3.0               0.0   \n",
      "\n",
      "      Sleep Duration Dietary Habits   Degree  \\\n",
      "0          5-6 hours        Healthy  B.Pharm   \n",
      "1          5-6 hours       Moderate      BSc   \n",
      "2  Less than 5 hours        Healthy       BA   \n",
      "3          7-8 hours       Moderate      BCA   \n",
      "4          5-6 hours       Moderate   M.Tech   \n",
      "\n",
      "  Have you ever had suicidal thoughts ?  Work/Study Hours  Financial Stress  \\\n",
      "0                                   Yes               3.0               1.0   \n",
      "1                                    No               3.0               2.0   \n",
      "2                                    No               9.0               1.0   \n",
      "3                                   Yes               4.0               5.0   \n",
      "4                                   Yes               1.0               1.0   \n",
      "\n",
      "  Family History of Mental Illness  Depression  \n",
      "0                               No         1.0  \n",
      "1                              Yes         0.0  \n",
      "2                              Yes         0.0  \n",
      "3                              Yes         1.0  \n",
      "4                               No         0.0  \n"
     ]
    }
   ],
   "source": [
    "print(\"Initial Dataset Shape:\", df.shape)\n",
    "print(\"First 5 rows:\")\n",
    "print(df.head())"
   ]
  },
  {
   "cell_type": "code",
   "execution_count": 6,
   "id": "6cecda0a-f91f-4a9a-90d1-ce74ed417d66",
   "metadata": {},
   "outputs": [
    {
     "name": "stdout",
     "output_type": "stream",
     "text": [
      "\n",
      "Missing values before handling:\n",
      "id                                       0\n",
      "Gender                                   0\n",
      "Age                                      0\n",
      "City                                     0\n",
      "Profession                               0\n",
      "Academic Pressure                        0\n",
      "Work Pressure                            0\n",
      "CGPA                                     0\n",
      "Study Satisfaction                       0\n",
      "Job Satisfaction                         0\n",
      "Sleep Duration                           0\n",
      "Dietary Habits                           0\n",
      "Degree                                   0\n",
      "Have you ever had suicidal thoughts ?    0\n",
      "Work/Study Hours                         0\n",
      "Financial Stress                         3\n",
      "Family History of Mental Illness         0\n",
      "Depression                               0\n",
      "dtype: int64\n"
     ]
    }
   ],
   "source": [
    "print(\"\\nMissing values before handling:\")\n",
    "print(df.isnull().sum())"
   ]
  },
  {
   "cell_type": "code",
   "execution_count": 7,
   "id": "41dfe224-0d7f-4f5c-9609-054b473e05e8",
   "metadata": {},
   "outputs": [
    {
     "name": "stdout",
     "output_type": "stream",
     "text": [
      "Filled missing values in 'Financial Stress' with MEAN\n"
     ]
    },
    {
     "name": "stderr",
     "output_type": "stream",
     "text": [
      "C:\\Users\\Hasindu Lakshan\\AppData\\Local\\Temp\\ipykernel_9292\\2339124779.py:4: FutureWarning: A value is trying to be set on a copy of a DataFrame or Series through chained assignment using an inplace method.\n",
      "The behavior will change in pandas 3.0. This inplace method will never work because the intermediate object on which we are setting values always behaves as a copy.\n",
      "\n",
      "For example, when doing 'df[col].method(value, inplace=True)', try using 'df.method({col: value}, inplace=True)' or df[col] = df[col].method(value) instead, to perform the operation inplace on the original object.\n",
      "\n",
      "\n",
      "  df[col].fillna(df[col].mean(), inplace=True)\n"
     ]
    }
   ],
   "source": [
    "num_cols = df.select_dtypes(include=[np.number]).columns\n",
    "for col in num_cols:\n",
    "    if df[col].isnull().sum() > 0:\n",
    "        df[col].fillna(df[col].mean(), inplace=True)\n",
    "        print(f\"Filled missing values in '{col}' with MEAN\")"
   ]
  },
  {
   "cell_type": "code",
   "execution_count": 8,
   "id": "3a251987-74bb-4be7-b9e1-da3221f1e454",
   "metadata": {},
   "outputs": [],
   "source": [
    "cat_cols = df.select_dtypes(exclude=[np.number]).columns\n",
    "for col in cat_cols:\n",
    "    if df[col].isnull().sum() > 0:\n",
    "        df[col].fillna(df[col].mode()[0], inplace=True)\n",
    "        print(f\"Filled missing values in '{col}' with MODE\")"
   ]
  },
  {
   "cell_type": "code",
   "execution_count": 9,
   "id": "c5061691-b90b-44a5-b88d-8cbd97a640e2",
   "metadata": {},
   "outputs": [
    {
     "name": "stdout",
     "output_type": "stream",
     "text": [
      "\n",
      "Missing values after handling:\n",
      "id                                       0\n",
      "Gender                                   0\n",
      "Age                                      0\n",
      "City                                     0\n",
      "Profession                               0\n",
      "Academic Pressure                        0\n",
      "Work Pressure                            0\n",
      "CGPA                                     0\n",
      "Study Satisfaction                       0\n",
      "Job Satisfaction                         0\n",
      "Sleep Duration                           0\n",
      "Dietary Habits                           0\n",
      "Degree                                   0\n",
      "Have you ever had suicidal thoughts ?    0\n",
      "Work/Study Hours                         0\n",
      "Financial Stress                         0\n",
      "Family History of Mental Illness         0\n",
      "Depression                               0\n",
      "dtype: int64\n"
     ]
    }
   ],
   "source": [
    "print(\"\\nMissing values after handling:\")\n",
    "print(df.isnull().sum())\n"
   ]
  },
  {
   "cell_type": "code",
   "execution_count": 10,
   "id": "02feee6e-82be-4879-89ec-ec04b6d5d7a1",
   "metadata": {},
   "outputs": [],
   "source": [
    "output_path = r\"C:\\Users\\Hasindu Lakshan\\Documents\\depression_dataset_cleaned.csv\"\n",
    "df.to_csv(output_path, index=False)"
   ]
  },
  {
   "cell_type": "code",
   "execution_count": 11,
   "id": "2422b38b-c661-451f-9c6f-90e2733f8975",
   "metadata": {},
   "outputs": [
    {
     "name": "stdout",
     "output_type": "stream",
     "text": [
      "\n",
      "Cleaned dataset saved as: C:\\Users\\Hasindu Lakshan\\Documents\\depression_dataset_cleaned.csv\n"
     ]
    }
   ],
   "source": [
    "print(f\"\\nCleaned dataset saved as: {output_path}\")"
   ]
  },
  {
   "cell_type": "code",
   "execution_count": null,
   "id": "124cd3a9-bac9-44db-9b48-6f03e79629bb",
   "metadata": {},
   "outputs": [],
   "source": []
  }
 ],
 "metadata": {
  "kernelspec": {
   "display_name": "Python 3 (ipykernel)",
   "language": "python",
   "name": "python3"
  },
  "language_info": {
   "codemirror_mode": {
    "name": "ipython",
    "version": 3
   },
   "file_extension": ".py",
   "mimetype": "text/x-python",
   "name": "python",
   "nbconvert_exporter": "python",
   "pygments_lexer": "ipython3",
   "version": "3.13.7"
  }
 },
 "nbformat": 4,
 "nbformat_minor": 5
}
